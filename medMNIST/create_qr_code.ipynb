{
 "cells": [
  {
   "cell_type": "code",
   "execution_count": 2,
   "id": "84b8a037",
   "metadata": {},
   "outputs": [],
   "source": [
    "import qrcode"
   ]
  },
  {
   "cell_type": "code",
   "execution_count": 3,
   "id": "8de46f8d",
   "metadata": {},
   "outputs": [],
   "source": [
    "url = \"https://github.com/pstnmz/Computer_vision/blob/main/medMNIST/papers/steinmetz1562.pdf\"\n",
    "# Generate QR\n",
    "img = qrcode.make(url)\n",
    "img.save(\"paper_qr.png\")"
   ]
  }
 ],
 "metadata": {
  "kernelspec": {
   "display_name": "venv_medMNIST",
   "language": "python",
   "name": "python3"
  },
  "language_info": {
   "codemirror_mode": {
    "name": "ipython",
    "version": 3
   },
   "file_extension": ".py",
   "mimetype": "text/x-python",
   "name": "python",
   "nbconvert_exporter": "python",
   "pygments_lexer": "ipython3",
   "version": "3.12.3"
  }
 },
 "nbformat": 4,
 "nbformat_minor": 5
}
